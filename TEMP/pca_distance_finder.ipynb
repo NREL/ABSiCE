{
 "cells": [
  {
   "cell_type": "code",
   "execution_count": 1,
   "metadata": {},
   "outputs": [],
   "source": [
    "import pandas as pd\n",
    "from math import radians, sin, cos, sqrt, atan2\n",
    "\n",
    "# Function to calculate the Haversine distance between two points given their latitude and longitude\n",
    "def haversine(lat1, lon1, lat2, lon2):\n",
    "    # Convert latitude and longitude from degrees to radians\n",
    "    lat1, lon1, lat2, lon2 = map(radians, [lat1, lon1, lat2, lon2])\n",
    "\n",
    "    # Haversine formula\n",
    "    dlon = lon2 - lon1\n",
    "    dlat = lat2 - lat1\n",
    "    a = sin(dlat / 2)**2 + cos(lat1) * cos(lat2) * sin(dlon / 2)**2\n",
    "    c = 2 * atan2(sqrt(a), sqrt(1 - a))\n",
    "    return 6371 * c  # Radius of the Earth in kilometers\n",
    "\n",
    "# Load the data for PCAs and recyclers from CSV files\n",
    "pca_data = pd.read_csv(\"TEMP/pca_longlat.csv\")  # Replace with your PCA data file\n",
    "recycler_data = pd.read_csv(\"TEMP/recycler_data.csv\")  # Replace with your recycler data file\n",
    "\n",
    "# Create an empty DataFrame to store distances\n",
    "distance_df = pd.DataFrame(columns=pca_data['PCA'], index=recycler_data['Recycler Name'])\n",
    "\n",
    "# Calculate distances between each PCA and each recycler\n",
    "for pca_index, pca_row in pca_data.iterrows():\n",
    "    pca_lat = pca_row['Lat']\n",
    "    pca_lon = pca_row['Long']\n",
    "\n",
    "    for recycler_index, recycler_row in recycler_data.iterrows():\n",
    "        recycler_lat = recycler_row['Latitude']\n",
    "        recycler_lon = recycler_row['Longitude']\n",
    "\n",
    "        distance = haversine(pca_lat, pca_lon, recycler_lat, recycler_lon)\n",
    "\n",
    "        # Fill in the distance in the DataFrame\n",
    "        distance_df.at[recycler_row['Recycler Name'], pca_row['PCA']] = distance\n",
    "\n",
    "# Save the distances to a CSV file\n",
    "distance_df.to_csv(\"TEMP/pca_recycler_distances_jupyter.csv\")\n"
   ]
  },
  {
   "cell_type": "code",
   "execution_count": 4,
   "metadata": {},
   "outputs": [],
   "source": [
    "# Load the data for PCAs and recyclers from CSV files\n",
    "pca_data = pd.read_csv(\"TEMP/pca_longlat.csv\")  # Replace with your PCA data file\n",
    "landfills_data = pd.read_csv(\"Landfills_data.csv\")  # Replace with your recycler data file\n",
    "\n",
    "# Create an empty DataFrame to store distances\n",
    "distance_df = pd.DataFrame(columns=pca_data['PCA'], index=landfills_data['Facility Name'])\n",
    "\n",
    "# Calculate distances between each PCA and each recycler\n",
    "for pca_index, pca_row in pca_data.iterrows():\n",
    "    pca_lat = pca_row['Lat']\n",
    "    pca_lon = pca_row['Long']\n",
    "\n",
    "    for landfills_index, landfills_row in landfills_data.iterrows():\n",
    "        landfills_lat = landfills_row['Latitude']\n",
    "        landfills_lon = landfills_row['Longitude']\n",
    "\n",
    "        distance = haversine(pca_lat, pca_lon, landfills_lat, landfills_lon)\n",
    "\n",
    "        # Fill in the distance in the DataFrame\n",
    "        distance_df.at[landfills_row['Facility Name'], pca_row['PCA']] = distance\n",
    "\n",
    "# Save the distances to a CSV file\n",
    "distance_df.to_csv(\"TEMP/pca_landfills_distances_jupyter.csv\")"
   ]
  }
 ],
 "metadata": {
  "kernelspec": {
   "display_name": "Python 3",
   "language": "python",
   "name": "python3"
  },
  "language_info": {
   "codemirror_mode": {
    "name": "ipython",
    "version": 3
   },
   "file_extension": ".py",
   "mimetype": "text/x-python",
   "name": "python",
   "nbconvert_exporter": "python",
   "pygments_lexer": "ipython3",
   "version": "3.9.6"
  },
  "orig_nbformat": 4
 },
 "nbformat": 4,
 "nbformat_minor": 2
}
